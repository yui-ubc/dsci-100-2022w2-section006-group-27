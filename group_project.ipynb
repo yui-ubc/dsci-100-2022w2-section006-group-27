{
 "cells": [
  {
   "cell_type": "markdown",
   "id": "38e6d93d-7341-466c-a3e9-51199f3db55a",
   "metadata": {},
   "source": [
    "This is the notebook where we will do our data analysis"
   ]
  },
  {
   "cell_type": "code",
   "execution_count": 79,
   "id": "c8350b4a-e8c1-4f78-8d9b-90b1a5c54a66",
   "metadata": {},
   "outputs": [],
   "source": [
    "library(tidyverse)\n",
    "library(repr)\n",
    "library(tidymodels)\n",
    "library(readxl)\n",
    "options(repr.matrix.max.rows = 6)"
   ]
  },
  {
   "cell_type": "code",
   "execution_count": 88,
   "id": "7a194c0a-7143-4369-9252-765a13287b66",
   "metadata": {},
   "outputs": [
    {
     "data": {
      "text/html": [
       "<table class=\"dataframe\">\n",
       "<caption>A tibble: 258 × 6</caption>\n",
       "<thead>\n",
       "\t<tr><th scope=col>STG</th><th scope=col>SCG</th><th scope=col>STR</th><th scope=col>LPR</th><th scope=col>PEG</th><th scope=col>UNS</th></tr>\n",
       "\t<tr><th scope=col>&lt;dbl&gt;</th><th scope=col>&lt;dbl&gt;</th><th scope=col>&lt;dbl&gt;</th><th scope=col>&lt;dbl&gt;</th><th scope=col>&lt;dbl&gt;</th><th scope=col>&lt;chr&gt;</th></tr>\n",
       "</thead>\n",
       "<tbody>\n",
       "\t<tr><td>0.00</td><td>0.00</td><td>0.00</td><td>0.00</td><td>0.00</td><td>Very Low</td></tr>\n",
       "\t<tr><td>0.08</td><td>0.08</td><td>0.10</td><td>0.24</td><td>0.90</td><td>High    </td></tr>\n",
       "\t<tr><td>0.06</td><td>0.06</td><td>0.05</td><td>0.25</td><td>0.33</td><td>Low     </td></tr>\n",
       "\t<tr><td>⋮</td><td>⋮</td><td>⋮</td><td>⋮</td><td>⋮</td><td>⋮</td></tr>\n",
       "\t<tr><td>0.54</td><td>0.82</td><td>0.71</td><td>0.29</td><td>0.77</td><td>High  </td></tr>\n",
       "\t<tr><td>0.50</td><td>0.75</td><td>0.81</td><td>0.61</td><td>0.26</td><td>Middle</td></tr>\n",
       "\t<tr><td>0.66</td><td>0.90</td><td>0.76</td><td>0.87</td><td>0.74</td><td>High  </td></tr>\n",
       "</tbody>\n",
       "</table>\n"
      ],
      "text/latex": [
       "A tibble: 258 × 6\n",
       "\\begin{tabular}{llllll}\n",
       " STG & SCG & STR & LPR & PEG & UNS\\\\\n",
       " <dbl> & <dbl> & <dbl> & <dbl> & <dbl> & <chr>\\\\\n",
       "\\hline\n",
       "\t 0.00 & 0.00 & 0.00 & 0.00 & 0.00 & Very Low\\\\\n",
       "\t 0.08 & 0.08 & 0.10 & 0.24 & 0.90 & High    \\\\\n",
       "\t 0.06 & 0.06 & 0.05 & 0.25 & 0.33 & Low     \\\\\n",
       "\t ⋮ & ⋮ & ⋮ & ⋮ & ⋮ & ⋮\\\\\n",
       "\t 0.54 & 0.82 & 0.71 & 0.29 & 0.77 & High  \\\\\n",
       "\t 0.50 & 0.75 & 0.81 & 0.61 & 0.26 & Middle\\\\\n",
       "\t 0.66 & 0.90 & 0.76 & 0.87 & 0.74 & High  \\\\\n",
       "\\end{tabular}\n"
      ],
      "text/markdown": [
       "\n",
       "A tibble: 258 × 6\n",
       "\n",
       "| STG &lt;dbl&gt; | SCG &lt;dbl&gt; | STR &lt;dbl&gt; | LPR &lt;dbl&gt; | PEG &lt;dbl&gt; | UNS &lt;chr&gt; |\n",
       "|---|---|---|---|---|---|\n",
       "| 0.00 | 0.00 | 0.00 | 0.00 | 0.00 | Very Low |\n",
       "| 0.08 | 0.08 | 0.10 | 0.24 | 0.90 | High     |\n",
       "| 0.06 | 0.06 | 0.05 | 0.25 | 0.33 | Low      |\n",
       "| ⋮ | ⋮ | ⋮ | ⋮ | ⋮ | ⋮ |\n",
       "| 0.54 | 0.82 | 0.71 | 0.29 | 0.77 | High   |\n",
       "| 0.50 | 0.75 | 0.81 | 0.61 | 0.26 | Middle |\n",
       "| 0.66 | 0.90 | 0.76 | 0.87 | 0.74 | High   |\n",
       "\n"
      ],
      "text/plain": [
       "    STG  SCG  STR  LPR  PEG  UNS     \n",
       "1   0.00 0.00 0.00 0.00 0.00 Very Low\n",
       "2   0.08 0.08 0.10 0.24 0.90 High    \n",
       "3   0.06 0.06 0.05 0.25 0.33 Low     \n",
       "⋮   ⋮    ⋮    ⋮    ⋮    ⋮    ⋮       \n",
       "256 0.54 0.82 0.71 0.29 0.77 High    \n",
       "257 0.50 0.75 0.81 0.61 0.26 Middle  \n",
       "258 0.66 0.90 0.76 0.87 0.74 High    "
      ]
     },
     "metadata": {},
     "output_type": "display_data"
    },
    {
     "data": {
      "text/html": [
       "<table class=\"dataframe\">\n",
       "<caption>A tibble: 145 × 6</caption>\n",
       "<thead>\n",
       "\t<tr><th scope=col>STG</th><th scope=col>SCG</th><th scope=col>STR</th><th scope=col>LPR</th><th scope=col>PEG</th><th scope=col>UNS</th></tr>\n",
       "\t<tr><th scope=col>&lt;dbl&gt;</th><th scope=col>&lt;dbl&gt;</th><th scope=col>&lt;dbl&gt;</th><th scope=col>&lt;dbl&gt;</th><th scope=col>&lt;dbl&gt;</th><th scope=col>&lt;chr&gt;</th></tr>\n",
       "</thead>\n",
       "<tbody>\n",
       "\t<tr><td>0.00</td><td>0.10</td><td>0.50</td><td>0.26</td><td>0.05</td><td>Very Low</td></tr>\n",
       "\t<tr><td>0.05</td><td>0.05</td><td>0.55</td><td>0.60</td><td>0.14</td><td>Low     </td></tr>\n",
       "\t<tr><td>0.08</td><td>0.18</td><td>0.63</td><td>0.60</td><td>0.85</td><td>High    </td></tr>\n",
       "\t<tr><td>⋮</td><td>⋮</td><td>⋮</td><td>⋮</td><td>⋮</td><td>⋮</td></tr>\n",
       "\t<tr><td>0.56</td><td>0.60</td><td>0.77</td><td>0.13</td><td>0.32</td><td>Low   </td></tr>\n",
       "\t<tr><td>0.66</td><td>0.68</td><td>0.81</td><td>0.57</td><td>0.57</td><td>Middle</td></tr>\n",
       "\t<tr><td>0.68</td><td>0.64</td><td>0.79</td><td>0.97</td><td>0.24</td><td>Middle</td></tr>\n",
       "</tbody>\n",
       "</table>\n"
      ],
      "text/latex": [
       "A tibble: 145 × 6\n",
       "\\begin{tabular}{llllll}\n",
       " STG & SCG & STR & LPR & PEG & UNS\\\\\n",
       " <dbl> & <dbl> & <dbl> & <dbl> & <dbl> & <chr>\\\\\n",
       "\\hline\n",
       "\t 0.00 & 0.10 & 0.50 & 0.26 & 0.05 & Very Low\\\\\n",
       "\t 0.05 & 0.05 & 0.55 & 0.60 & 0.14 & Low     \\\\\n",
       "\t 0.08 & 0.18 & 0.63 & 0.60 & 0.85 & High    \\\\\n",
       "\t ⋮ & ⋮ & ⋮ & ⋮ & ⋮ & ⋮\\\\\n",
       "\t 0.56 & 0.60 & 0.77 & 0.13 & 0.32 & Low   \\\\\n",
       "\t 0.66 & 0.68 & 0.81 & 0.57 & 0.57 & Middle\\\\\n",
       "\t 0.68 & 0.64 & 0.79 & 0.97 & 0.24 & Middle\\\\\n",
       "\\end{tabular}\n"
      ],
      "text/markdown": [
       "\n",
       "A tibble: 145 × 6\n",
       "\n",
       "| STG &lt;dbl&gt; | SCG &lt;dbl&gt; | STR &lt;dbl&gt; | LPR &lt;dbl&gt; | PEG &lt;dbl&gt; | UNS &lt;chr&gt; |\n",
       "|---|---|---|---|---|---|\n",
       "| 0.00 | 0.10 | 0.50 | 0.26 | 0.05 | Very Low |\n",
       "| 0.05 | 0.05 | 0.55 | 0.60 | 0.14 | Low      |\n",
       "| 0.08 | 0.18 | 0.63 | 0.60 | 0.85 | High     |\n",
       "| ⋮ | ⋮ | ⋮ | ⋮ | ⋮ | ⋮ |\n",
       "| 0.56 | 0.60 | 0.77 | 0.13 | 0.32 | Low    |\n",
       "| 0.66 | 0.68 | 0.81 | 0.57 | 0.57 | Middle |\n",
       "| 0.68 | 0.64 | 0.79 | 0.97 | 0.24 | Middle |\n",
       "\n"
      ],
      "text/plain": [
       "    STG  SCG  STR  LPR  PEG  UNS     \n",
       "1   0.00 0.10 0.50 0.26 0.05 Very Low\n",
       "2   0.05 0.05 0.55 0.60 0.14 Low     \n",
       "3   0.08 0.18 0.63 0.60 0.85 High    \n",
       "⋮   ⋮    ⋮    ⋮    ⋮    ⋮    ⋮       \n",
       "143 0.56 0.60 0.77 0.13 0.32 Low     \n",
       "144 0.66 0.68 0.81 0.57 0.57 Middle  \n",
       "145 0.68 0.64 0.79 0.97 0.24 Middle  "
      ]
     },
     "metadata": {},
     "output_type": "display_data"
    }
   ],
   "source": [
    "knowledge_train <- read_excel(\"Data_User_Modeling_Dataset_Hamdi Tolga KAHRAMAN.xls\", \"Training_Data\", range = \"A1:F259\")\n",
    "\n",
    "#renaming the variable \"very_low\" to \"Very Low\" in order to facilitate data analysis with test data\n",
    "knowledge_train$UNS <- recode(knowledge_train$UNS,\n",
    "                                      \"very_low\" = \"Very Low\")\n",
    "knowledge_train\n",
    "\n",
    "knowledge_test <- read_excel(\"Data_User_Modeling_Dataset_Hamdi Tolga KAHRAMAN.xls\", \"Test_Data\", range = \"A1:F146\")\n",
    "knowledge_test"
   ]
  },
  {
   "cell_type": "markdown",
   "id": "94137b23-ea37-4385-8911-3c43fec00d40",
   "metadata": {},
   "source": [
    "Some information about this dataset:\n",
    "This dataset gives us insight into a person's degree of studying, including time,\n",
    "\n",
    "STG (The degree of study time for goal object materails),\n",
    "SCG (The degree of repetition number of user for goal object materails)\n",
    "STR (The degree of study time of user for related objects with goal object)\n",
    "LPR (The exam performance of user for related objects with goal object)\n",
    "PEG (The exam performance of user for goal objects)\n",
    "UNS (The knowledge level of user)"
   ]
  },
  {
   "cell_type": "code",
   "execution_count": 89,
   "id": "32e3d02c-1115-4c8c-8c75-73aa6028a5b4",
   "metadata": {},
   "outputs": [
    {
     "data": {
      "text/html": [
       "<table class=\"dataframe\">\n",
       "<caption>A tibble: 258 × 4</caption>\n",
       "<thead>\n",
       "\t<tr><th scope=col>STG</th><th scope=col>SCG</th><th scope=col>PEG</th><th scope=col>class</th></tr>\n",
       "\t<tr><th scope=col>&lt;dbl&gt;</th><th scope=col>&lt;dbl&gt;</th><th scope=col>&lt;dbl&gt;</th><th scope=col>&lt;fct&gt;</th></tr>\n",
       "</thead>\n",
       "<tbody>\n",
       "\t<tr><td>0.00</td><td>0.00</td><td>0.00</td><td>Very Low</td></tr>\n",
       "\t<tr><td>0.08</td><td>0.08</td><td>0.90</td><td>High    </td></tr>\n",
       "\t<tr><td>0.06</td><td>0.06</td><td>0.33</td><td>Low     </td></tr>\n",
       "\t<tr><td>⋮</td><td>⋮</td><td>⋮</td><td>⋮</td></tr>\n",
       "\t<tr><td>0.54</td><td>0.82</td><td>0.77</td><td>High  </td></tr>\n",
       "\t<tr><td>0.50</td><td>0.75</td><td>0.26</td><td>Middle</td></tr>\n",
       "\t<tr><td>0.66</td><td>0.90</td><td>0.74</td><td>High  </td></tr>\n",
       "</tbody>\n",
       "</table>\n"
      ],
      "text/latex": [
       "A tibble: 258 × 4\n",
       "\\begin{tabular}{llll}\n",
       " STG & SCG & PEG & class\\\\\n",
       " <dbl> & <dbl> & <dbl> & <fct>\\\\\n",
       "\\hline\n",
       "\t 0.00 & 0.00 & 0.00 & Very Low\\\\\n",
       "\t 0.08 & 0.08 & 0.90 & High    \\\\\n",
       "\t 0.06 & 0.06 & 0.33 & Low     \\\\\n",
       "\t ⋮ & ⋮ & ⋮ & ⋮\\\\\n",
       "\t 0.54 & 0.82 & 0.77 & High  \\\\\n",
       "\t 0.50 & 0.75 & 0.26 & Middle\\\\\n",
       "\t 0.66 & 0.90 & 0.74 & High  \\\\\n",
       "\\end{tabular}\n"
      ],
      "text/markdown": [
       "\n",
       "A tibble: 258 × 4\n",
       "\n",
       "| STG &lt;dbl&gt; | SCG &lt;dbl&gt; | PEG &lt;dbl&gt; | class &lt;fct&gt; |\n",
       "|---|---|---|---|\n",
       "| 0.00 | 0.00 | 0.00 | Very Low |\n",
       "| 0.08 | 0.08 | 0.90 | High     |\n",
       "| 0.06 | 0.06 | 0.33 | Low      |\n",
       "| ⋮ | ⋮ | ⋮ | ⋮ |\n",
       "| 0.54 | 0.82 | 0.77 | High   |\n",
       "| 0.50 | 0.75 | 0.26 | Middle |\n",
       "| 0.66 | 0.90 | 0.74 | High   |\n",
       "\n"
      ],
      "text/plain": [
       "    STG  SCG  PEG  class   \n",
       "1   0.00 0.00 0.00 Very Low\n",
       "2   0.08 0.08 0.90 High    \n",
       "3   0.06 0.06 0.33 Low     \n",
       "⋮   ⋮    ⋮    ⋮    ⋮       \n",
       "256 0.54 0.82 0.77 High    \n",
       "257 0.50 0.75 0.26 Middle  \n",
       "258 0.66 0.90 0.74 High    "
      ]
     },
     "metadata": {},
     "output_type": "display_data"
    },
    {
     "data": {
      "text/html": [
       "<table class=\"dataframe\">\n",
       "<caption>A tibble: 145 × 4</caption>\n",
       "<thead>\n",
       "\t<tr><th scope=col>STG</th><th scope=col>SCG</th><th scope=col>PEG</th><th scope=col>class</th></tr>\n",
       "\t<tr><th scope=col>&lt;dbl&gt;</th><th scope=col>&lt;dbl&gt;</th><th scope=col>&lt;dbl&gt;</th><th scope=col>&lt;fct&gt;</th></tr>\n",
       "</thead>\n",
       "<tbody>\n",
       "\t<tr><td>0.00</td><td>0.10</td><td>0.05</td><td>Very Low</td></tr>\n",
       "\t<tr><td>0.05</td><td>0.05</td><td>0.14</td><td>Low     </td></tr>\n",
       "\t<tr><td>0.08</td><td>0.18</td><td>0.85</td><td>High    </td></tr>\n",
       "\t<tr><td>⋮</td><td>⋮</td><td>⋮</td><td>⋮</td></tr>\n",
       "\t<tr><td>0.56</td><td>0.60</td><td>0.32</td><td>Low   </td></tr>\n",
       "\t<tr><td>0.66</td><td>0.68</td><td>0.57</td><td>Middle</td></tr>\n",
       "\t<tr><td>0.68</td><td>0.64</td><td>0.24</td><td>Middle</td></tr>\n",
       "</tbody>\n",
       "</table>\n"
      ],
      "text/latex": [
       "A tibble: 145 × 4\n",
       "\\begin{tabular}{llll}\n",
       " STG & SCG & PEG & class\\\\\n",
       " <dbl> & <dbl> & <dbl> & <fct>\\\\\n",
       "\\hline\n",
       "\t 0.00 & 0.10 & 0.05 & Very Low\\\\\n",
       "\t 0.05 & 0.05 & 0.14 & Low     \\\\\n",
       "\t 0.08 & 0.18 & 0.85 & High    \\\\\n",
       "\t ⋮ & ⋮ & ⋮ & ⋮\\\\\n",
       "\t 0.56 & 0.60 & 0.32 & Low   \\\\\n",
       "\t 0.66 & 0.68 & 0.57 & Middle\\\\\n",
       "\t 0.68 & 0.64 & 0.24 & Middle\\\\\n",
       "\\end{tabular}\n"
      ],
      "text/markdown": [
       "\n",
       "A tibble: 145 × 4\n",
       "\n",
       "| STG &lt;dbl&gt; | SCG &lt;dbl&gt; | PEG &lt;dbl&gt; | class &lt;fct&gt; |\n",
       "|---|---|---|---|\n",
       "| 0.00 | 0.10 | 0.05 | Very Low |\n",
       "| 0.05 | 0.05 | 0.14 | Low      |\n",
       "| 0.08 | 0.18 | 0.85 | High     |\n",
       "| ⋮ | ⋮ | ⋮ | ⋮ |\n",
       "| 0.56 | 0.60 | 0.32 | Low    |\n",
       "| 0.66 | 0.68 | 0.57 | Middle |\n",
       "| 0.68 | 0.64 | 0.24 | Middle |\n",
       "\n"
      ],
      "text/plain": [
       "    STG  SCG  PEG  class   \n",
       "1   0.00 0.10 0.05 Very Low\n",
       "2   0.05 0.05 0.14 Low     \n",
       "3   0.08 0.18 0.85 High    \n",
       "⋮   ⋮    ⋮    ⋮    ⋮       \n",
       "143 0.56 0.60 0.32 Low     \n",
       "144 0.66 0.68 0.57 Middle  \n",
       "145 0.68 0.64 0.24 Middle  "
      ]
     },
     "metadata": {},
     "output_type": "display_data"
    }
   ],
   "source": [
    "knowledge_train <- mutate(knowledge_train, class = as_factor(UNS)) |>\n",
    "select(STG, SCG, PEG, class)\n",
    "knowledge_train\n",
    "knowledge_test <- mutate(knowledge_test, class = as_factor(UNS)) |>\n",
    "select(STG, SCG, PEG, class)\n",
    "knowledge_test"
   ]
  },
  {
   "cell_type": "markdown",
   "id": "555bfeae-a212-4d25-9fe0-5d75f40524a6",
   "metadata": {},
   "source": [
    "Our goal is to predict the class using STG, SCG and PEG.\n",
    "The different possible classes are:\n",
    "- very low\n",
    "- low\n",
    "- middle\n",
    "- high"
   ]
  },
  {
   "cell_type": "code",
   "execution_count": 90,
   "id": "88dac57d-50a9-48ff-85bb-aae27b754c22",
   "metadata": {},
   "outputs": [
    {
     "data": {
      "text/html": [
       "<table class=\"dataframe\">\n",
       "<caption>A tibble: 4 × 3</caption>\n",
       "<thead>\n",
       "\t<tr><th scope=col>class</th><th scope=col>count</th><th scope=col>percent</th></tr>\n",
       "\t<tr><th scope=col>&lt;fct&gt;</th><th scope=col>&lt;int&gt;</th><th scope=col>&lt;dbl&gt;</th></tr>\n",
       "</thead>\n",
       "<tbody>\n",
       "\t<tr><td>Very Low</td><td>24</td><td> 9.302326</td></tr>\n",
       "\t<tr><td>High    </td><td>63</td><td>24.418605</td></tr>\n",
       "\t<tr><td>Low     </td><td>83</td><td>32.170543</td></tr>\n",
       "\t<tr><td>Middle  </td><td>88</td><td>34.108527</td></tr>\n",
       "</tbody>\n",
       "</table>\n"
      ],
      "text/latex": [
       "A tibble: 4 × 3\n",
       "\\begin{tabular}{lll}\n",
       " class & count & percent\\\\\n",
       " <fct> & <int> & <dbl>\\\\\n",
       "\\hline\n",
       "\t Very Low & 24 &  9.302326\\\\\n",
       "\t High     & 63 & 24.418605\\\\\n",
       "\t Low      & 83 & 32.170543\\\\\n",
       "\t Middle   & 88 & 34.108527\\\\\n",
       "\\end{tabular}\n"
      ],
      "text/markdown": [
       "\n",
       "A tibble: 4 × 3\n",
       "\n",
       "| class &lt;fct&gt; | count &lt;int&gt; | percent &lt;dbl&gt; |\n",
       "|---|---|---|\n",
       "| Very Low | 24 |  9.302326 |\n",
       "| High     | 63 | 24.418605 |\n",
       "| Low      | 83 | 32.170543 |\n",
       "| Middle   | 88 | 34.108527 |\n",
       "\n"
      ],
      "text/plain": [
       "  class    count percent  \n",
       "1 Very Low 24     9.302326\n",
       "2 High     63    24.418605\n",
       "3 Low      83    32.170543\n",
       "4 Middle   88    34.108527"
      ]
     },
     "metadata": {},
     "output_type": "display_data"
    }
   ],
   "source": [
    "knowledge_proportions <- knowledge_train |>\n",
    "                      group_by(class) |>\n",
    "                      summarize(count = n()) |>\n",
    "                      mutate(percent = 100*count/nrow(knowledge_train))\n",
    "knowledge_proportions\n"
   ]
  },
  {
   "cell_type": "markdown",
   "id": "256c8a26-b053-4e0d-9603-31826bb94482",
   "metadata": {},
   "source": [
    "@chantal describe the problem with this - there is not equal number of classes meaning data will be biased towards variables like middle. or maybe this is reflective of the overall population? "
   ]
  },
  {
   "cell_type": "code",
   "execution_count": 91,
   "id": "a27d0ab8-c0f8-4da1-a380-ae6680ff1e27",
   "metadata": {},
   "outputs": [
    {
     "data": {
      "image/png": "[encoded data removed]",
      "text/plain": [
       "plot without title"
      ]
     },
     "metadata": {
      "image/png": {
       "height": 420,
       "width": 420
      }
     },
     "output_type": "display_data"
    }
   ],
   "source": [
    "#visualizing initial plot to see which variable has highest influence\n",
    "initial_plot <- ggplot(knowledge_train, aes(x= SCG, y= PEG, colour = class)) + \n",
    "                      geom_point() +\n",
    "                      xlab(\"STG\") +\n",
    "                      ylab(\"PEG\")\n",
    "initial_plot"
   ]
  },
  {
   "cell_type": "code",
   "execution_count": 92,
   "id": "92b7777a-098b-44a7-bf16-143c6c4e7e3d",
   "metadata": {},
   "outputs": [
    {
     "data": {
      "text/plain": [
       "Recipe\n",
       "\n",
       "Inputs:\n",
       "\n",
       "      role #variables\n",
       "   outcome          1\n",
       " predictor          3\n",
       "\n",
       "Operations:\n",
       "\n",
       "Scaling for all_predictors()\n",
       "Centering for all_predictors()"
      ]
     },
     "metadata": {},
     "output_type": "display_data"
    }
   ],
   "source": [
    "#creating the recipe\n",
    "\n",
    "knowledge_recipe <- recipe(class ~ STG + PEG + SCG, data = knowledge_train) |>\n",
    "  step_scale(all_predictors()) |>\n",
    "  step_center(all_predictors())\n",
    "knowledge_recipe"
   ]
  },
  {
   "cell_type": "code",
   "execution_count": 93,
   "id": "9db46f99-814d-4013-a93c-31fcd430193b",
   "metadata": {},
   "outputs": [
    {
     "data": {
      "text/plain": [
       "══ Workflow [trained] ══════════════════════════════════════════════════════════\n",
       "\u001b[3mPreprocessor:\u001b[23m Recipe\n",
       "\u001b[3mModel:\u001b[23m nearest_neighbor()\n",
       "\n",
       "── Preprocessor ────────────────────────────────────────────────────────────────\n",
       "2 Recipe Steps\n",
       "\n",
       "• step_scale()\n",
       "• step_center()\n",
       "\n",
       "── Model ───────────────────────────────────────────────────────────────────────\n",
       "\n",
       "Call:\n",
       "kknn::train.kknn(formula = ..y ~ ., data = data, ks = min_rows(5,     data, 5), kernel = ~\"rectangular\")\n",
       "\n",
       "Type of response variable: nominal\n",
       "Minimal misclassification: 0.2093023\n",
       "Best kernel: rectangular\n",
       "Best k: 5"
      ]
     },
     "metadata": {},
     "output_type": "display_data"
    }
   ],
   "source": [
    "#Trianing the classifier\n",
    "\n",
    "#model specification\n",
    "knn_spec <- nearest_neighbor(weight_func = \"rectangular\", neighbors = 5) |>\n",
    "  set_engine(\"kknn\") |>\n",
    "  set_mode(\"classification\")\n",
    "\n",
    "#fitting the data to build classifier\n",
    "knn_fit <- workflow() |>\n",
    "  add_recipe(knowledge_recipe) |>\n",
    "  add_model(knn_spec) |>\n",
    "  fit(data = knowledge_train)\n",
    "\n",
    "knn_fit"
   ]
  },
  {
   "cell_type": "code",
   "execution_count": 102,
   "id": "cd457a84-7ec8-49c8-a357-e6521e16cf0b",
   "metadata": {},
   "outputs": [
    {
     "data": {
      "text/html": [
       "<table class=\"dataframe\">\n",
       "<caption>A tibble: 145 × 5</caption>\n",
       "<thead>\n",
       "\t<tr><th scope=col>.pred_class</th><th scope=col>STG</th><th scope=col>SCG</th><th scope=col>PEG</th><th scope=col>class</th></tr>\n",
       "\t<tr><th scope=col>&lt;fct&gt;</th><th scope=col>&lt;dbl&gt;</th><th scope=col>&lt;dbl&gt;</th><th scope=col>&lt;dbl&gt;</th><th scope=col>&lt;fct&gt;</th></tr>\n",
       "</thead>\n",
       "<tbody>\n",
       "\t<tr><td>Very Low</td><td>0.00</td><td>0.10</td><td>0.05</td><td>Very Low</td></tr>\n",
       "\t<tr><td>Low     </td><td>0.05</td><td>0.05</td><td>0.14</td><td>Low     </td></tr>\n",
       "\t<tr><td>High    </td><td>0.08</td><td>0.18</td><td>0.85</td><td>High    </td></tr>\n",
       "\t<tr><td>⋮</td><td>⋮</td><td>⋮</td><td>⋮</td><td>⋮</td></tr>\n",
       "\t<tr><td>Low   </td><td>0.56</td><td>0.60</td><td>0.32</td><td>Low   </td></tr>\n",
       "\t<tr><td>Middle</td><td>0.66</td><td>0.68</td><td>0.57</td><td>Middle</td></tr>\n",
       "\t<tr><td>Low   </td><td>0.68</td><td>0.64</td><td>0.24</td><td>Middle</td></tr>\n",
       "</tbody>\n",
       "</table>\n"
      ],
      "text/latex": [
       "A tibble: 145 × 5\n",
       "\\begin{tabular}{lllll}\n",
       " .pred\\_class & STG & SCG & PEG & class\\\\\n",
       " <fct> & <dbl> & <dbl> & <dbl> & <fct>\\\\\n",
       "\\hline\n",
       "\t Very Low & 0.00 & 0.10 & 0.05 & Very Low\\\\\n",
       "\t Low      & 0.05 & 0.05 & 0.14 & Low     \\\\\n",
       "\t High     & 0.08 & 0.18 & 0.85 & High    \\\\\n",
       "\t ⋮ & ⋮ & ⋮ & ⋮ & ⋮\\\\\n",
       "\t Low    & 0.56 & 0.60 & 0.32 & Low   \\\\\n",
       "\t Middle & 0.66 & 0.68 & 0.57 & Middle\\\\\n",
       "\t Low    & 0.68 & 0.64 & 0.24 & Middle\\\\\n",
       "\\end{tabular}\n"
      ],
      "text/markdown": [
       "\n",
       "A tibble: 145 × 5\n",
       "\n",
       "| .pred_class &lt;fct&gt; | STG &lt;dbl&gt; | SCG &lt;dbl&gt; | PEG &lt;dbl&gt; | class &lt;fct&gt; |\n",
       "|---|---|---|---|---|\n",
       "| Very Low | 0.00 | 0.10 | 0.05 | Very Low |\n",
       "| Low      | 0.05 | 0.05 | 0.14 | Low      |\n",
       "| High     | 0.08 | 0.18 | 0.85 | High     |\n",
       "| ⋮ | ⋮ | ⋮ | ⋮ | ⋮ |\n",
       "| Low    | 0.56 | 0.60 | 0.32 | Low    |\n",
       "| Middle | 0.66 | 0.68 | 0.57 | Middle |\n",
       "| Low    | 0.68 | 0.64 | 0.24 | Middle |\n",
       "\n"
      ],
      "text/plain": [
       "    .pred_class STG  SCG  PEG  class   \n",
       "1   Very Low    0.00 0.10 0.05 Very Low\n",
       "2   Low         0.05 0.05 0.14 Low     \n",
       "3   High        0.08 0.18 0.85 High    \n",
       "⋮   ⋮           ⋮    ⋮    ⋮    ⋮       \n",
       "143 Low         0.56 0.60 0.32 Low     \n",
       "144 Middle      0.66 0.68 0.57 Middle  \n",
       "145 Low         0.68 0.64 0.24 Middle  "
      ]
     },
     "metadata": {},
     "output_type": "display_data"
    }
   ],
   "source": [
    "#Predict the data using the test \n",
    "knowledge_test_predictions <- predict(knn_fit, knowledge_test) |>\n",
    "  bind_cols(knowledge_test)\n",
    "knowledge_test_predictions"
   ]
  },
  {
   "cell_type": "code",
   "execution_count": 101,
   "id": "6cc89dc1-6a1e-46ad-a415-acc68673f961",
   "metadata": {},
   "outputs": [
    {
     "ename": "ERROR",
     "evalue": "\u001b[1m\u001b[33mError\u001b[39m in \u001b[1m\u001b[1m`value[[3L]]()`:\u001b[22m\n\u001b[33m!\u001b[39m In metric: `accuracy`\n\u001b[1m\u001b[22mProblem while computing `.estimate = metric_fn(truth = class, estimate =\n.pred_class, na_rm = na_rm)`.\n\u001b[1mCaused by error in \u001b[1m\u001b[1m`multiclass_checks()`:\u001b[22m\n\u001b[33m!\u001b[39m `truth` and `estimate` levels must be equivalent.\n`truth`: Very Low, Low, High, Middle\n`estimate`: Very Low, High, Low, Middle\n",
     "output_type": "error",
     "traceback": [
      "\u001b[1m\u001b[33mError\u001b[39m in \u001b[1m\u001b[1m`value[[3L]]()`:\u001b[22m\n\u001b[33m!\u001b[39m In metric: `accuracy`\n\u001b[1m\u001b[22mProblem while computing `.estimate = metric_fn(truth = class, estimate =\n.pred_class, na_rm = na_rm)`.\n\u001b[1mCaused by error in \u001b[1m\u001b[1m`multiclass_checks()`:\u001b[22m\n\u001b[33m!\u001b[39m `truth` and `estimate` levels must be equivalent.\n`truth`: Very Low, Low, High, Middle\n`estimate`: Very Low, High, Low, Middle\nTraceback:\n",
      "1. filter(metrics(knowledge_test_predictions, truth = class, estimate = .pred_class), \n .     .metric == \"accuracy\")",
      "2. metrics(knowledge_test_predictions, truth = class, estimate = .pred_class)",
      "3. metrics.data.frame(knowledge_test_predictions, truth = class, \n .     estimate = .pred_class)",
      "4. metrics_class(data, !!truth, estimate = !!estimate, na_rm = na_rm)",
      "5. mapply(FUN = eval_safely, class_calls, names(class_calls), SIMPLIFY = FALSE, \n .     USE.NAMES = FALSE)",
      "6. (function (expr, expr_nm, data = NULL, env = caller_env()) \n . {\n .     tryCatch(expr = {\n .         eval_tidy(expr, data = data, env = env)\n .     }, error = function(e) {\n .         abort(paste0(\"In metric: `\", expr_nm, \"`\\n\", conditionMessage(e)))\n .     })\n . })(dots[[1L]][[1L]], dots[[2L]][[1L]])",
      "7. tryCatch(expr = {\n .     eval_tidy(expr, data = data, env = env)\n . }, error = function(e) {\n .     abort(paste0(\"In metric: `\", expr_nm, \"`\\n\", conditionMessage(e)))\n . })",
      "8. tryCatchList(expr, classes, parentenv, handlers)",
      "9. tryCatchOne(expr, names, parentenv, handlers[[1L]])",
      "10. value[[3L]](cond)",
      "11. abort(paste0(\"In metric: `\", expr_nm, \"`\\n\", conditionMessage(e)))",
      "12. signal_abort(cnd, .file)"
     ]
    }
   ],
   "source": [
    "#accessing the quality of our model\n",
    "knowledge_test_predictions |>\n",
    "  metrics(truth = class, estimate = .pred_class) |>\n",
    "  filter(.metric == \"accuracy\")"
   ]
  },
  {
   "cell_type": "code",
   "execution_count": null,
   "id": "8564bd46-ce8f-4bd2-a9ec-dbe278fb5435",
   "metadata": {},
   "outputs": [],
   "source": []
  }
 ],
 "metadata": {
  "kernelspec": {
   "display_name": "R",
   "language": "R",
   "name": "ir"
  },
  "language_info": {
   "codemirror_mode": "r",
   "file_extension": ".r",
   "mimetype": "text/x-r-source",
   "name": "R",
   "pygments_lexer": "r",
   "version": "4.1.3"
  }
 },
 "nbformat": 4,
 "nbformat_minor": 5
}
